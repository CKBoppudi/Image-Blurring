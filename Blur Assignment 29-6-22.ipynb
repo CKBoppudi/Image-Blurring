{
 "cells": [
  {
   "cell_type": "code",
   "execution_count": 1,
   "id": "9578caa0",
   "metadata": {},
   "outputs": [],
   "source": [
    "import cv2 as cv\n",
    "import numpy as np "
   ]
  },
  {
   "cell_type": "code",
   "execution_count": 2,
   "id": "7bf23827",
   "metadata": {},
   "outputs": [
    {
     "data": {
      "text/plain": [
       "48"
      ]
     },
     "execution_count": 2,
     "metadata": {},
     "output_type": "execute_result"
    }
   ],
   "source": [
    "image = cv.imread(r\"C:\\Users\\DELL\\Desktop\\EXTRA S040754B-CW506-SPOT 61-51-50-37DEG-160PCS-2MHZ-CC.scn.png\",0)\n",
    "cv.imshow(\"Original image\" , image)\n",
    "cv.waitKey(0)"
   ]
  },
  {
   "cell_type": "code",
   "execution_count": 3,
   "id": "103bd37b",
   "metadata": {},
   "outputs": [
    {
     "data": {
      "text/plain": [
       "48"
      ]
     },
     "execution_count": 3,
     "metadata": {},
     "output_type": "execute_result"
    }
   ],
   "source": [
    "# Applying Mean blur or average blur on the image \n",
    "Mean_blur = cv.blur(image , (5,5))\n",
    "cv.imshow(\"Mean blur on image\" , Mean_blur)\n",
    "cv.waitKey(0)"
   ]
  },
  {
   "cell_type": "code",
   "execution_count": 4,
   "id": "a8190b2b",
   "metadata": {},
   "outputs": [
    {
     "data": {
      "text/plain": [
       "48"
      ]
     },
     "execution_count": 4,
     "metadata": {},
     "output_type": "execute_result"
    }
   ],
   "source": [
    "# Applying Median blur on the image \n",
    "Median_blur = cv.medianBlur(image , 5)\n",
    "cv.imshow(\"Median blur on image\" , Median_blur)\n",
    "cv.waitKey(0)"
   ]
  },
  {
   "cell_type": "code",
   "execution_count": 5,
   "id": "11d19eb9",
   "metadata": {},
   "outputs": [
    {
     "data": {
      "text/plain": [
       "48"
      ]
     },
     "execution_count": 5,
     "metadata": {},
     "output_type": "execute_result"
    }
   ],
   "source": [
    "# Applying Gaussian blur on the image \n",
    "Gaussian_blur = cv.GaussianBlur(image , (5,5) , 0)\n",
    "cv.imshow(\"Gaussian blur on image\" , Gaussian_blur)\n",
    "cv.waitKey(0)"
   ]
  },
  {
   "cell_type": "code",
   "execution_count": 6,
   "id": "b5f1267b",
   "metadata": {},
   "outputs": [
    {
     "data": {
      "text/plain": [
       "48"
      ]
     },
     "execution_count": 6,
     "metadata": {},
     "output_type": "execute_result"
    }
   ],
   "source": [
    "Gaussian_substract = Gaussian_blur - image\n",
    "cv.imshow(\"Gauss substraction\" , Gaussian_substract)\n",
    "cv.waitKey(0)"
   ]
  },
  {
   "cell_type": "code",
   "execution_count": 7,
   "id": "1f6a0b38",
   "metadata": {},
   "outputs": [
    {
     "data": {
      "text/plain": [
       "48"
      ]
     },
     "execution_count": 7,
     "metadata": {},
     "output_type": "execute_result"
    }
   ],
   "source": [
    "Median_substract = Median_blur - image\n",
    "cv.imshow(\"Median substraction\" , Median_substract)\n",
    "cv.waitKey(0)"
   ]
  },
  {
   "cell_type": "code",
   "execution_count": 8,
   "id": "782094f7",
   "metadata": {},
   "outputs": [
    {
     "data": {
      "text/plain": [
       "27"
      ]
     },
     "execution_count": 8,
     "metadata": {},
     "output_type": "execute_result"
    }
   ],
   "source": [
    "Mean_substract = Mean_blur - image\n",
    "cv.imshow(\"Mean substraction\" , Mean_substract)\n",
    "cv.waitKey(0)"
   ]
  },
  {
   "cell_type": "code",
   "execution_count": 9,
   "id": "cd580739",
   "metadata": {},
   "outputs": [
    {
     "data": {
      "text/plain": [
       "27"
      ]
     },
     "execution_count": 9,
     "metadata": {},
     "output_type": "execute_result"
    }
   ],
   "source": [
    "image1_substract = image - Gaussian_blur\n",
    "cv.imshow(\"image_gauss_substract\" , image1_substract)\n",
    "cv.waitKey(0)"
   ]
  },
  {
   "cell_type": "code",
   "execution_count": null,
   "id": "0578412c",
   "metadata": {},
   "outputs": [],
   "source": [
    "image2_substract = image - Median_blur\n",
    "cv.imshow(\"image_Median_substract\" , image2_substract)\n",
    "cv.waitKey(0)"
   ]
  },
  {
   "cell_type": "code",
   "execution_count": null,
   "id": "0e852f44",
   "metadata": {},
   "outputs": [],
   "source": [
    "image3_substract = image - Mean_blur\n",
    "cv.imshow(\"image_Mean_substract\" , image3_substract)\n",
    "cv.waitKey(0)"
   ]
  },
  {
   "cell_type": "code",
   "execution_count": null,
   "id": "7880ee37",
   "metadata": {},
   "outputs": [],
   "source": [
    "Gaussian_blur2 = cv.GaussianBlur(image , (47,47) , 0)\n",
    "cv.imshow(\"Gaussian on image_2\" , Gaussian_blur2)\n",
    "cv.waitKey(0)"
   ]
  },
  {
   "cell_type": "code",
   "execution_count": null,
   "id": "9458634b",
   "metadata": {},
   "outputs": [],
   "source": [
    "image_substract_gaussian11 = image - Gaussian_blur2\n",
    "cv.imshow(\"substract\" , image_substract_gaussian11)\n",
    "cv.waitKey(0)"
   ]
  },
  {
   "cell_type": "code",
   "execution_count": null,
   "id": "8d9652d7",
   "metadata": {},
   "outputs": [],
   "source": [
    "Gaussian_blur3 = cv.GaussianBlur(image , (25,25) , 0)\n",
    "cv.imshow(\"Gaussian on image_3\" , Gaussian_blur3)\n",
    "cv.waitKey(0)"
   ]
  },
  {
   "cell_type": "code",
   "execution_count": null,
   "id": "5ff0c4fe",
   "metadata": {},
   "outputs": [],
   "source": [
    "image_substract_gaussian25 = image - Gaussian_blur3\n",
    "cv.imshow(\"substract2\" , image_substract_gaussian25)\n",
    "cv.waitKey(0)"
   ]
  },
  {
   "cell_type": "code",
   "execution_count": null,
   "id": "4cc54fc6",
   "metadata": {},
   "outputs": [],
   "source": []
  },
  {
   "cell_type": "code",
   "execution_count": null,
   "id": "54ee0d4e",
   "metadata": {},
   "outputs": [],
   "source": []
  },
  {
   "cell_type": "code",
   "execution_count": null,
   "id": "2f0e9684",
   "metadata": {},
   "outputs": [],
   "source": []
  }
 ],
 "metadata": {
  "kernelspec": {
   "display_name": "Python 3 (ipykernel)",
   "language": "python",
   "name": "python3"
  },
  "language_info": {
   "codemirror_mode": {
    "name": "ipython",
    "version": 3
   },
   "file_extension": ".py",
   "mimetype": "text/x-python",
   "name": "python",
   "nbconvert_exporter": "python",
   "pygments_lexer": "ipython3",
   "version": "3.9.7"
  }
 },
 "nbformat": 4,
 "nbformat_minor": 5
}
